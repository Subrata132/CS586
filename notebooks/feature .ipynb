{
 "cells": [
  {
   "cell_type": "code",
   "execution_count": 1,
   "id": "c5c485fa",
   "metadata": {},
   "outputs": [],
   "source": [
    "import os\n",
    "import cv2\n",
    "import numpy as np\n",
    "import pandas as pd\n",
    "from tqdm import tqdm\n",
    "import matplotlib.pyplot as plt"
   ]
  },
  {
   "cell_type": "code",
   "execution_count": 2,
   "id": "42a608cb",
   "metadata": {},
   "outputs": [],
   "source": [
    "class LatLong2Grid:\n",
    "    def __init__(self):\n",
    "        self.min_lat = 22.502\n",
    "        self.max_lat = 22.688\n",
    "        self.min_long = 113.813\n",
    "        self.max_long = 114.293\n",
    "        self.max_grid_long = 480\n",
    "        self.max_grid_lat = 187\n",
    "    \n",
    "    def process_df(self, df):\n",
    "        df['time'] = pd.to_datetime(df[\"time\"])\n",
    "        df.sort_values(by=\"time\")\n",
    "        df['longitude'] = df['longitude'].round(3)\n",
    "        df['latitude'] = df['latitude'].round(3)\n",
    "        s1 = ((df['longitude']<=self.max_long)&(df['longitude']>=self.min_long))\n",
    "        s2 = ((df['latitude']<=self.max_lat)&(df['latitude']>=self.min_lat))\n",
    "        slice_ = s1 & s2 \n",
    "        df = df[slice_]\n",
    "        df['long'] = df['longitude'].apply(lambda x: int(\n",
    "            self.max_grid_long*((x-self.min_long)/(self.max_long - self.min_long)))\n",
    "                                          )\n",
    "        df['lat'] = df['latitude'].apply(lambda x: int(\n",
    "            self.max_grid_lat - self.max_grid_lat*((x-self.min_lat)/(self.max_lat - self.min_lat)))\n",
    "                                        )\n",
    "        return df\n",
    "    \n",
    "    def get_indicies(self, df):\n",
    "        df = df.reset_index()\n",
    "        df['flag'] = df['status'].diff(periods=1)\n",
    "        start = df.iloc[0].status\n",
    "        df['flag'].iloc[0] = 0\n",
    "        indicies = df[df['flag'].isin([-1, 1])].index.to_list()\n",
    "        indicies.insert(0, 0)\n",
    "        indicies.append(df.shape[0])\n",
    "        return indicies, start\n",
    "    \n",
    "    def draw_trajectory(self, df):\n",
    "        color = (0, 0, 0)  \n",
    "        thickness = 2\n",
    "        image = np.ones((self.max_grid_lat, self.max_grid_long), np.uint8)\n",
    "        points = list(df[['long', 'lat']].to_numpy())\n",
    "#         for j in range(temp_df.shape[0]):\n",
    "#             x1, y1 = temp_df.iloc[j].long, self.max_grid_lat - temp_df.iloc[j].lat\n",
    "#             points.append([x1, y1])\n",
    "        points = np.asarray(points, np.int32)\n",
    "#         np.put(image, points, 255)\n",
    "        image = cv2.polylines(image, [points], False, color, thickness)\n",
    "        return image\n",
    "    \n",
    "    def get_feature(self, df):\n",
    "        indices, start = self.get_indicies(df)\n",
    "        all_features = []\n",
    "        for j in tqdm(range(0, len(indices)-2, 2)):\n",
    "            if start == 1:\n",
    "                first_image = self.draw_trajectory(df[indices[j]:indices[j+1]])\n",
    "                second_image = self.draw_trajectory(df[indices[j+1]:indices[j+2]])\n",
    "            else:\n",
    "                first_image = self.draw_trajectory(df[indices[j+1]:indices[j+2]])\n",
    "                second_image = self.draw_trajectory(df[indices[j]:indices[j+1]])\n",
    "            all_features.append(np.stack([first_image, second_image], axis=0))\n",
    "        return all_features"
   ]
  },
  {
   "cell_type": "code",
   "execution_count": 3,
   "id": "db2407a0",
   "metadata": {},
   "outputs": [
    {
     "name": "stdout",
     "output_type": "stream",
     "text": [
      "179\n"
     ]
    }
   ],
   "source": [
    "data_dir = \"../data/data_5drivers/\"\n",
    "all_csv_names = os.listdir(data_dir)\n",
    "print(len(all_csv_names))"
   ]
  },
  {
   "cell_type": "code",
   "execution_count": 4,
   "id": "4669dfe7",
   "metadata": {},
   "outputs": [],
   "source": [
    "lat_long_to_grid = LatLong2Grid()"
   ]
  },
  {
   "cell_type": "code",
   "execution_count": 5,
   "id": "00075056",
   "metadata": {},
   "outputs": [
    {
     "name": "stderr",
     "output_type": "stream",
     "text": [
      "/tmp/ipykernel_15848/2068128663.py:19: SettingWithCopyWarning: \n",
      "A value is trying to be set on a copy of a slice from a DataFrame.\n",
      "Try using .loc[row_indexer,col_indexer] = value instead\n",
      "\n",
      "See the caveats in the documentation: https://pandas.pydata.org/pandas-docs/stable/user_guide/indexing.html#returning-a-view-versus-a-copy\n",
      "  df['long'] = df['longitude'].apply(lambda x: int(\n",
      "/tmp/ipykernel_15848/2068128663.py:22: SettingWithCopyWarning: \n",
      "A value is trying to be set on a copy of a slice from a DataFrame.\n",
      "Try using .loc[row_indexer,col_indexer] = value instead\n",
      "\n",
      "See the caveats in the documentation: https://pandas.pydata.org/pandas-docs/stable/user_guide/indexing.html#returning-a-view-versus-a-copy\n",
      "  df['lat'] = df['latitude'].apply(lambda x: int(\n"
     ]
    },
    {
     "data": {
      "text/html": [
       "<div>\n",
       "<style scoped>\n",
       "    .dataframe tbody tr th:only-of-type {\n",
       "        vertical-align: middle;\n",
       "    }\n",
       "\n",
       "    .dataframe tbody tr th {\n",
       "        vertical-align: top;\n",
       "    }\n",
       "\n",
       "    .dataframe thead th {\n",
       "        text-align: right;\n",
       "    }\n",
       "</style>\n",
       "<table border=\"1\" class=\"dataframe\">\n",
       "  <thead>\n",
       "    <tr style=\"text-align: right;\">\n",
       "      <th></th>\n",
       "      <th>plate</th>\n",
       "      <th>longitude</th>\n",
       "      <th>latitude</th>\n",
       "      <th>time</th>\n",
       "      <th>status</th>\n",
       "      <th>long</th>\n",
       "      <th>lat</th>\n",
       "    </tr>\n",
       "  </thead>\n",
       "  <tbody>\n",
       "    <tr>\n",
       "      <th>0</th>\n",
       "      <td>1</td>\n",
       "      <td>114.118</td>\n",
       "      <td>22.537</td>\n",
       "      <td>2016-09-03 00:08:54</td>\n",
       "      <td>1</td>\n",
       "      <td>304</td>\n",
       "      <td>151</td>\n",
       "    </tr>\n",
       "    <tr>\n",
       "      <th>2</th>\n",
       "      <td>2</td>\n",
       "      <td>113.949</td>\n",
       "      <td>22.579</td>\n",
       "      <td>2016-09-03 00:08:55</td>\n",
       "      <td>1</td>\n",
       "      <td>135</td>\n",
       "      <td>109</td>\n",
       "    </tr>\n",
       "    <tr>\n",
       "      <th>3</th>\n",
       "      <td>2</td>\n",
       "      <td>113.949</td>\n",
       "      <td>22.579</td>\n",
       "      <td>2016-09-03 00:08:56</td>\n",
       "      <td>1</td>\n",
       "      <td>135</td>\n",
       "      <td>109</td>\n",
       "    </tr>\n",
       "    <tr>\n",
       "      <th>4</th>\n",
       "      <td>2</td>\n",
       "      <td>113.948</td>\n",
       "      <td>22.578</td>\n",
       "      <td>2016-09-03 00:09:03</td>\n",
       "      <td>1</td>\n",
       "      <td>134</td>\n",
       "      <td>110</td>\n",
       "    </tr>\n",
       "    <tr>\n",
       "      <th>5</th>\n",
       "      <td>3</td>\n",
       "      <td>114.118</td>\n",
       "      <td>22.577</td>\n",
       "      <td>2016-09-03 00:09:05</td>\n",
       "      <td>0</td>\n",
       "      <td>304</td>\n",
       "      <td>111</td>\n",
       "    </tr>\n",
       "  </tbody>\n",
       "</table>\n",
       "</div>"
      ],
      "text/plain": [
       "   plate  longitude  latitude                time  status  long  lat\n",
       "0      1    114.118    22.537 2016-09-03 00:08:54       1   304  151\n",
       "2      2    113.949    22.579 2016-09-03 00:08:55       1   135  109\n",
       "3      2    113.949    22.579 2016-09-03 00:08:56       1   135  109\n",
       "4      2    113.948    22.578 2016-09-03 00:09:03       1   134  110\n",
       "5      3    114.118    22.577 2016-09-03 00:09:05       0   304  111"
      ]
     },
     "execution_count": 5,
     "metadata": {},
     "output_type": "execute_result"
    }
   ],
   "source": [
    "id_ = 50\n",
    "df = pd.read_csv(os.path.join(data_dir, all_csv_names[id_]))\n",
    "df = lat_long_to_grid.process_df(df)\n",
    "df.head()"
   ]
  },
  {
   "cell_type": "code",
   "execution_count": 6,
   "id": "78dca1d8",
   "metadata": {},
   "outputs": [
    {
     "name": "stderr",
     "output_type": "stream",
     "text": [
      "/tmp/ipykernel_15848/2068128663.py:31: SettingWithCopyWarning: \n",
      "A value is trying to be set on a copy of a slice from a DataFrame\n",
      "\n",
      "See the caveats in the documentation: https://pandas.pydata.org/pandas-docs/stable/user_guide/indexing.html#returning-a-view-versus-a-copy\n",
      "  df['flag'].iloc[0] = 0\n",
      "100%|████████████████████████████████████████████████████████████████████████████████████████████████████████████████████████████████████████████████████████████████████████| 43/43 [00:00<00:00, 633.00it/s]\n"
     ]
    }
   ],
   "source": [
    "plate = 0\n",
    "temp_df = df[df['plate']==plate]\n",
    "features = lat_long_to_grid.get_feature(temp_df)"
   ]
  },
  {
   "cell_type": "code",
   "execution_count": 8,
   "id": "a81fee00",
   "metadata": {},
   "outputs": [
    {
     "data": {
      "image/png": "[encoded data removed]",
      "text/plain": [
       "<Figure size 640x480 with 2 Axes>"
      ]
     },
     "metadata": {},
     "output_type": "display_data"
    },
    {
     "data": {
      "image/png": "[encoded data removed]",
      "text/plain": [
       "<Figure size 640x480 with 2 Axes>"
      ]
     },
     "metadata": {},
     "output_type": "display_data"
    },
    {
     "data": {
      "image/png": "[encoded data removed]",
      "text/plain": [
       "<Figure size 640x480 with 2 Axes>"
      ]
     },
     "metadata": {},
     "output_type": "display_data"
    },
    {
     "data": {
      "image/png": "[encoded data removed]",
      "text/plain": [
       "<Figure size 640x480 with 2 Axes>"
      ]
     },
     "metadata": {},
     "output_type": "display_data"
    },
    {
     "data": {
      "image/png": "[encoded data removed]",
      "text/plain": [
       "<Figure size 640x480 with 2 Axes>"
      ]
     },
     "metadata": {},
     "output_type": "display_data"
    },
    {
     "data": {
      "image/png": "[encoded data removed]",
      "text/plain": [
       "<Figure size 640x480 with 2 Axes>"
      ]
     },
     "metadata": {},
     "output_type": "display_data"
    },
    {
     "data": {
      "image/png": "[encoded data removed]",
      "text/plain": [
       "<Figure size 640x480 with 2 Axes>"
      ]
     },
     "metadata": {},
     "output_type": "display_data"
    },
    {
     "data": {
      "image/png": "[encoded data removed]",
      "text/plain": [
       "<Figure size 640x480 with 2 Axes>"
      ]
     },
     "metadata": {},
     "output_type": "display_data"
    },
    {
     "data": {
      "image/png": "[encoded data removed]",
      "text/plain": [
       "<Figure size 640x480 with 2 Axes>"
      ]
     },
     "metadata": {},
     "output_type": "display_data"
    },
    {
     "data": {
      "image/png": "[encoded data removed]",
      "text/plain": [
       "<Figure size 640x480 with 2 Axes>"
      ]
     },
     "metadata": {},
     "output_type": "display_data"
    }
   ],
   "source": [
    "for idx in range(10):\n",
    "    fig, axes = plt.subplots(1, 2)\n",
    "    axes = axes.ravel()\n",
    "    for i in range(features[idx].shape[0]):\n",
    "        axes[i].imshow(features[idx][i])\n",
    "plt.show()"
   ]
  },
  {
   "cell_type": "code",
   "execution_count": null,
   "id": "c38e563e",
   "metadata": {},
   "outputs": [],
   "source": []
  }
 ],
 "metadata": {
  "kernelspec": {
   "display_name": "Python 3 (ipykernel)",
   "language": "python",
   "name": "python3"
  },
  "language_info": {
   "codemirror_mode": {
    "name": "ipython",
    "version": 3
   },
   "file_extension": ".py",
   "mimetype": "text/x-python",
   "name": "python",
   "nbconvert_exporter": "python",
   "pygments_lexer": "ipython3",
   "version": "3.8.10"
  }
 },
 "nbformat": 4,
 "nbformat_minor": 5
}
